{
 "cells": [
  {
   "cell_type": "markdown",
   "id": "196b974a-5d35-4859-96b3-5fc9d09a6975",
   "metadata": {},
   "source": [
    "# A Notebook for Calculating Weight by Target Weight Distribution"
   ]
  },
  {
   "cell_type": "code",
   "execution_count": 1,
   "id": "424892ff-7157-40b2-9945-8bee958aa985",
   "metadata": {},
   "outputs": [],
   "source": [
    "import shutil\n",
    "import h5py as h5\n",
    "import numpy as np\n",
    "import matplotlib.pyplot as plt\n",
    "\n",
    "import awkward as ak\n",
    "\n",
    "import vector\n",
    "vector.register_awkward()\n",
    "vector.register_numba()"
   ]
  },
  {
   "cell_type": "markdown",
   "id": "8ad71eb3-d698-405d-8498-5c3c8f191af5",
   "metadata": {},
   "source": [
    "## load dataset and get the target weight distribution"
   ]
  },
  {
   "cell_type": "markdown",
   "id": "d94b9676",
   "metadata": {},
   "source": [
    "### simple load dataset"
   ]
  },
  {
   "cell_type": "code",
   "execution_count": 2,
   "id": "8f45c2e2",
   "metadata": {},
   "outputs": [],
   "source": [
    "def awk2npy(arr):\n",
    "    return np.array(arr)[..., np.newaxis]"
   ]
  },
  {
   "cell_type": "code",
   "execution_count": 3,
   "id": "120e02eb",
   "metadata": {},
   "outputs": [],
   "source": [
    "training_path = \"../../data/hhh_mh120-130_training.h5\"\n",
    "post_path = \"../../data/merged_training_all_w_weights.h5\"\n",
    "\n",
    "post_path = shutil.copy2(training_path, post_path)"
   ]
  },
  {
   "cell_type": "code",
   "execution_count": 4,
   "id": "f41f38eb-dffe-4bd2-996f-247465e27f5a",
   "metadata": {},
   "outputs": [],
   "source": [
    "f = h5.File(post_path, 'a')"
   ]
  },
  {
   "cell_type": "code",
   "execution_count": 5,
   "id": "c88746b3",
   "metadata": {},
   "outputs": [
    {
     "data": {
      "text/plain": [
       "<KeysViewHDF5 ['INPUTS', 'TARGETS']>"
      ]
     },
     "execution_count": 5,
     "metadata": {},
     "output_type": "execute_result"
    }
   ],
   "source": [
    "f.keys()"
   ]
  },
  {
   "cell_type": "code",
   "execution_count": 6,
   "id": "abe2c262",
   "metadata": {},
   "outputs": [],
   "source": [
    "for i in range(1, 4):\n",
    "    exec(f\"rh{i}_mass = awk2npy(f[\\'TARGETS\\'][\\'h{i}\\'][\\'mh\\'])\")\n",
    "    exec(f\"bh{i}_mass = awk2npy(f[\\'TARGETS\\'][\\'bh{i}\\'][\\'mh\\'])\")"
   ]
  },
  {
   "cell_type": "code",
   "execution_count": 7,
   "id": "41e6e532",
   "metadata": {},
   "outputs": [],
   "source": [
    "for i in range(1, 4):\n",
    "    exec(f\"rh{i}_mask = awk2npy(f[\\'TARGETS\\'][\\'h{i}\\'][\\'mask\\'])\")\n",
    "    exec(f\"bh{i}_mask = awk2npy(f[\\'TARGETS\\'][\\'bh{i}\\'][\\'mask\\'])\")"
   ]
  },
  {
   "cell_type": "code",
   "execution_count": 8,
   "id": "04dafd3b",
   "metadata": {},
   "outputs": [],
   "source": [
    "rh_mass_list = []\n",
    "for i in range(1, 4):\n",
    "    exec(f\"rh_mass_list.append(rh{i}_mass)\")\n",
    "rh_mass = np.concatenate(rh_mass_list, axis=1)"
   ]
  },
  {
   "cell_type": "code",
   "execution_count": 9,
   "id": "66df5b9c",
   "metadata": {},
   "outputs": [],
   "source": [
    "rh_mask_list = []\n",
    "for i in range(1, 4):\n",
    "    exec(f\"rh_mask_list.append(rh{i}_mask)\")\n",
    "rh_mask = np.concatenate(rh_mask_list, axis=1)"
   ]
  },
  {
   "cell_type": "code",
   "execution_count": 10,
   "id": "c38bccee",
   "metadata": {},
   "outputs": [],
   "source": [
    "bh_mass_list = []\n",
    "for i in range(1, 4):\n",
    "    exec(f\"bh_mass_list.append(bh{i}_mass)\")\n",
    "bh_mass = np.concatenate(bh_mass_list, axis=1)"
   ]
  },
  {
   "cell_type": "code",
   "execution_count": 11,
   "id": "041a8fe2",
   "metadata": {},
   "outputs": [],
   "source": [
    "bh_mask_list = []\n",
    "for i in range(1, 4):\n",
    "    exec(f\"bh_mask_list.append(bh{i}_mask)\")\n",
    "bh_mask = np.concatenate(bh_mask_list, axis=1)"
   ]
  },
  {
   "cell_type": "code",
   "execution_count": 12,
   "id": "d1359006",
   "metadata": {},
   "outputs": [],
   "source": [
    "j_pt = np.array(f[\"INPUTS\"][\"Jets\"][\"pt\"])\n",
    "j_eta = np.array(f[\"INPUTS\"][\"Jets\"][\"eta\"])\n",
    "j_phi = np.array(f[\"INPUTS\"][\"Jets\"][\"phi\"])\n",
    "j_mass = np.array(f[\"INPUTS\"][\"Jets\"][\"mass\"])"
   ]
  },
  {
   "cell_type": "code",
   "execution_count": 13,
   "id": "2fb58110",
   "metadata": {},
   "outputs": [],
   "source": [
    "js = ak.zip(\n",
    "        {\n",
    "            \"pt\": j_pt,\n",
    "            \"eta\": j_eta,\n",
    "            \"phi\": j_phi,\n",
    "            \"mass\": j_mass,\n",
    "        },\n",
    "        with_name=\"Momentum4D\",\n",
    "    )"
   ]
  },
  {
   "cell_type": "code",
   "execution_count": 14,
   "id": "421ec331",
   "metadata": {},
   "outputs": [],
   "source": [
    "for i in range(1, 4):\n",
    "    exec(f\"rh{i}_b1s = awk2npy(f[\\\"TARGETS\\\"][\\\"h{i}\\\"][\\\"b1\\\"])\")\n",
    "    exec(f\"rh{i}_b2s = awk2npy(f[\\\"TARGETS\\\"][\\\"h{i}\\\"][\\\"b2\\\"])\")"
   ]
  },
  {
   "cell_type": "code",
   "execution_count": 15,
   "id": "dcce01f5",
   "metadata": {},
   "outputs": [],
   "source": [
    "rh_b1_list = []\n",
    "for i in range(1, 4):\n",
    "    exec(f\"rh_b1_list.append(rh{i}_b1s)\")\n",
    "rh_b1 = np.concatenate(rh_b1_list, axis=1)"
   ]
  },
  {
   "cell_type": "code",
   "execution_count": 16,
   "id": "017c68c6",
   "metadata": {},
   "outputs": [],
   "source": [
    "rh_b2_list = []\n",
    "for i in range(1, 4):\n",
    "    exec(f\"rh_b2_list.append(rh{i}_b2s)\")\n",
    "rh_b2 = np.concatenate(rh_b2_list, axis=1)"
   ]
  },
  {
   "cell_type": "markdown",
   "id": "849f6bda",
   "metadata": {},
   "source": [
    "### calculate resolved reco mass"
   ]
  },
  {
   "cell_type": "code",
   "execution_count": 17,
   "id": "95c12362",
   "metadata": {},
   "outputs": [],
   "source": [
    "b1s = js[np.arange(rh_b1.shape[0])[:, None], rh_b1]\n",
    "b2s = js[np.arange(rh_b2.shape[0])[:, None], rh_b2]"
   ]
  },
  {
   "cell_type": "code",
   "execution_count": 18,
   "id": "9b6f1712",
   "metadata": {},
   "outputs": [],
   "source": [
    "rH_reco = (b1s+b2s)[rh_mask]\n",
    "rH_reco_mass = rH_reco.M"
   ]
  },
  {
   "cell_type": "markdown",
   "id": "1ec109a1",
   "metadata": {},
   "source": [
    "### plot the resolved Higgs mass distribution"
   ]
  },
  {
   "cell_type": "code",
   "execution_count": 19,
   "id": "27e096fd",
   "metadata": {},
   "outputs": [
    {
     "data": {
      "text/plain": [
       "Text(0.5, 0, 'Reco Resolved Higgs Mass (GeV)')"
      ]
     },
     "execution_count": 19,
     "metadata": {},
     "output_type": "execute_result"
    },
    {
     "data": {
      "image/png": "[encoded data removed]",
      "text/plain": [
       "<Figure size 640x480 with 1 Axes>"
      ]
     },
     "metadata": {},
     "output_type": "display_data"
    }
   ],
   "source": [
    "plt.hist(rH_reco_mass, bins=np.arange(30, 230, 5), density=True)\n",
    "plt.title(\"Reconstructed Resolved Mass Distribution\")\n",
    "plt.xlabel('Reco Resolved Higgs Mass (GeV)')"
   ]
  },
  {
   "cell_type": "markdown",
   "id": "3fde24ea",
   "metadata": {},
   "source": [
    "### calculate boosted reco mass"
   ]
  },
  {
   "cell_type": "code",
   "execution_count": 20,
   "id": "a266f174",
   "metadata": {},
   "outputs": [],
   "source": [
    "fj_pt = np.array(f[\"INPUTS\"][\"BoostedJets\"][\"fj_pt\"])\n",
    "fj_eta = np.array(f[\"INPUTS\"][\"BoostedJets\"][\"fj_eta\"])\n",
    "fj_phi = np.array(f[\"INPUTS\"][\"BoostedJets\"][\"fj_phi\"])\n",
    "fj_mass = np.array(f[\"INPUTS\"][\"BoostedJets\"][\"fj_mass\"])"
   ]
  },
  {
   "cell_type": "code",
   "execution_count": 21,
   "id": "706f5051",
   "metadata": {},
   "outputs": [],
   "source": [
    "fjs = ak.zip(\n",
    "        {\n",
    "            \"pt\": fj_pt,\n",
    "            \"eta\": fj_eta,\n",
    "            \"phi\": fj_phi,\n",
    "            \"mass\": fj_mass,\n",
    "        },\n",
    "        with_name=\"Momentum4D\",\n",
    "    )"
   ]
  },
  {
   "cell_type": "code",
   "execution_count": 22,
   "id": "26c1db55",
   "metadata": {},
   "outputs": [],
   "source": [
    "for i in range(1, 4):\n",
    "    exec(f\"bh{i}_bbs = awk2npy(f[\\\"TARGETS\\\"][\\\"bh{i}\\\"][\\\"bb\\\"])\")"
   ]
  },
  {
   "cell_type": "code",
   "execution_count": 23,
   "id": "780bd32c",
   "metadata": {},
   "outputs": [],
   "source": [
    "bh_bb_list = []\n",
    "for i in range(1, 4):\n",
    "    exec(f\"bh_bb_list.append(bh{i}_bbs)\")\n",
    "bh_bb = np.concatenate(bh_bb_list, axis=1)"
   ]
  },
  {
   "cell_type": "code",
   "execution_count": 24,
   "id": "57fbf12f",
   "metadata": {},
   "outputs": [],
   "source": [
    "bb = fjs[np.arange(len(fjs))[:, None], bh_bb]\n",
    "bH_reco = bb[bh_mask]\n",
    "bH_reco_mass = bH_reco.M"
   ]
  },
  {
   "cell_type": "markdown",
   "id": "4645f764",
   "metadata": {},
   "source": [
    "### plot the boosted Higgs reco mass"
   ]
  },
  {
   "cell_type": "code",
   "execution_count": 25,
   "id": "3d17a556",
   "metadata": {},
   "outputs": [
    {
     "data": {
      "text/plain": [
       "Text(0.5, 0, 'Target Boosted Higgs Reco Mass (GeV)')"
      ]
     },
     "execution_count": 25,
     "metadata": {},
     "output_type": "execute_result"
    },
    {
     "data": {
      "image/png": "[encoded data removed]",
      "text/plain": [
       "<Figure size 640x480 with 1 Axes>"
      ]
     },
     "metadata": {},
     "output_type": "display_data"
    }
   ],
   "source": [
    "plt.hist(bH_reco_mass, bins=np.arange(30, 230, 5))\n",
    "plt.title(\"Target Boosted Higgs Reco Mass Distribution\")\n",
    "plt.xlabel('Target Boosted Higgs Reco Mass (GeV)')"
   ]
  },
  {
   "cell_type": "markdown",
   "id": "41a2d177-3d1a-49fa-999c-322b36edcef7",
   "metadata": {},
   "source": [
    "## Calculate the weight of each target"
   ]
  },
  {
   "cell_type": "markdown",
   "id": "973ba9f2",
   "metadata": {},
   "source": [
    "### calcualte the weight of each mass bin"
   ]
  },
  {
   "cell_type": "code",
   "execution_count": 26,
   "id": "2dfc4465-bcdc-4a43-aad1-1d8968a77fab",
   "metadata": {},
   "outputs": [],
   "source": [
    "# calculate mass density\n",
    "bins = np.arange(75, 180, 5)\n",
    "rH_mass_density, bins = np.histogram(rH_reco_mass, bins=bins, density=True)\n",
    "bH_mass_density, bins = np.histogram(bH_reco_mass, bins=bins, density=True)\n",
    "\n",
    "# calculate flat density\n",
    "flat_density = 1/len(bins[:-1])\n",
    "\n",
    "# calculate weight per bin\n",
    "# mass density x weight = flat density\n",
    "rH_weight = flat_density/rH_mass_density\n",
    "bH_weight = flat_density/bH_mass_density"
   ]
  },
  {
   "cell_type": "markdown",
   "id": "53196c44",
   "metadata": {},
   "source": [
    "### find which bin a target is"
   ]
  },
  {
   "cell_type": "code",
   "execution_count": 27,
   "id": "de0029d3",
   "metadata": {},
   "outputs": [],
   "source": [
    "# caluclate target reco mass\n",
    "resolved_target_mass = (b1s+b2s).M\n",
    "boosted_target_mass = bb.M"
   ]
  },
  {
   "cell_type": "code",
   "execution_count": 28,
   "id": "e975f6b6",
   "metadata": {},
   "outputs": [],
   "source": [
    "# find which mass bin the target is\n",
    "resolved_mass_bin_idx = np.digitize(resolved_target_mass, bins)\n",
    "boosted_mass_bin_idx = np.digitize(boosted_target_mass, bins)"
   ]
  },
  {
   "cell_type": "code",
   "execution_count": 29,
   "id": "319e1220",
   "metadata": {},
   "outputs": [],
   "source": [
    "resolved_target_weight = ak.ones_like(resolved_target_mass)\n",
    "resolved_target_weight = np.array(resolved_target_weight)"
   ]
  },
  {
   "cell_type": "code",
   "execution_count": 30,
   "id": "325e5f87",
   "metadata": {},
   "outputs": [],
   "source": [
    "boosted_target_weight = ak.ones_like(boosted_target_mass)\n",
    "boosted_target_weight = np.array(boosted_target_weight)"
   ]
  },
  {
   "cell_type": "code",
   "execution_count": 31,
   "id": "6b5340b9",
   "metadata": {},
   "outputs": [],
   "source": [
    "# first and last bin weight is one\n",
    "for i in range(1, len(bins)):\n",
    "    resolved_in_bin_i = resolved_mass_bin_idx == i\n",
    "    boosted_in_bin_i = boosted_mass_bin_idx == i\n",
    "    \n",
    "    resolved_target_weight[resolved_in_bin_i] = rH_weight[i-1]\n",
    "    boosted_target_weight[boosted_in_bin_i] = bH_weight[i-1]"
   ]
  },
  {
   "cell_type": "markdown",
   "id": "87824ef5",
   "metadata": {},
   "source": [
    "## Plot weights"
   ]
  },
  {
   "cell_type": "code",
   "execution_count": 40,
   "id": "1d2c649d",
   "metadata": {},
   "outputs": [
    {
     "data": {
      "text/plain": [
       "<BarContainer object of 20 artists>"
      ]
     },
     "execution_count": 40,
     "metadata": {},
     "output_type": "execute_result"
    },
    {
     "data": {
      "image/png": "[encoded data removed]",
      "text/plain": [
       "<Figure size 640x480 with 1 Axes>"
      ]
     },
     "metadata": {},
     "output_type": "display_data"
    }
   ],
   "source": [
    "plt.bar(x=np.arange(75, 175, 5), height=rH_weight)"
   ]
  },
  {
   "cell_type": "markdown",
   "id": "b3653b1b",
   "metadata": {},
   "source": [
    "## Validate weight"
   ]
  },
  {
   "cell_type": "code",
   "execution_count": 40,
   "id": "8a714f8c",
   "metadata": {},
   "outputs": [
    {
     "data": {
      "image/png": "[encoded data removed]",
      "text/plain": [
       "<Figure size 640x480 with 1 Axes>"
      ]
     },
     "metadata": {},
     "output_type": "display_data"
    }
   ],
   "source": [
    "plt.hist(resolved_target_mass[rh_mask], bins=np.arange(30, 230, 5), weights=resolved_target_weight[rh_mask], density=True)\n",
    "plt.xlabel('Reco resolved H Mass')\n",
    "plt.ylabel('Weight x Density')\n",
    "plt.show()"
   ]
  },
  {
   "cell_type": "code",
   "execution_count": 33,
   "id": "53bc1532",
   "metadata": {},
   "outputs": [
    {
     "data": {
      "text/plain": [
       "(array([0.01000079, 0.00999994, 0.01000135, 0.00999906, 0.01000158,\n",
       "        0.00999568, 0.01001068, 0.00999018, 0.01001107, 0.01000281,\n",
       "        0.00998306, 0.01002262, 0.01000155, 0.00999508, 0.00999969,\n",
       "        0.00999342, 0.00999894, 0.00999683, 0.01000268, 0.009993  ]),\n",
       " array([ 75.,  80.,  85.,  90.,  95., 100., 105., 110., 115., 120., 125.,\n",
       "        130., 135., 140., 145., 150., 155., 160., 165., 170., 175.]),\n",
       " <BarContainer object of 20 artists>)"
      ]
     },
     "execution_count": 33,
     "metadata": {},
     "output_type": "execute_result"
    },
    {
     "data": {
      "image/png": "[encoded data removed]",
      "text/plain": [
       "<Figure size 640x480 with 1 Axes>"
      ]
     },
     "metadata": {},
     "output_type": "display_data"
    }
   ],
   "source": [
    "plt.hist(boosted_target_mass[bh_mask], bins=bins, weights=boosted_target_weight[bh_mask], density=True)"
   ]
  },
  {
   "cell_type": "markdown",
   "id": "c8071429-9ebb-4607-bdac-d5466088d7bf",
   "metadata": {},
   "source": [
    "## Copy dataset, add target weight, and dump the new dataset"
   ]
  },
  {
   "cell_type": "code",
   "execution_count": 34,
   "id": "5869e40c",
   "metadata": {},
   "outputs": [],
   "source": [
    "for i in range(1, 4):\n",
    "    exec(\n",
    "        f\"f.create_dataset(\\'TARGETS/h{i}/WEIGHT\\', data=resolved_target_weight[:, {i-1}])\"\n",
    "    )\n",
    "    exec(\n",
    "        f\"f.create_dataset(\\'TARGETS/bh{i}/WEIGHT\\', data=boosted_target_weight[:, {i-1}])\"\n",
    "    )"
   ]
  },
  {
   "cell_type": "code",
   "execution_count": 35,
   "id": "0cb5cb63",
   "metadata": {},
   "outputs": [
    {
     "data": {
      "text/plain": [
       "<KeysViewHDF5 ['WEIGHT', 'b1', 'b2', 'mask', 'mh', 'pt']>"
      ]
     },
     "execution_count": 35,
     "metadata": {},
     "output_type": "execute_result"
    }
   ],
   "source": [
    "f['TARGETS']['h1'].keys()"
   ]
  },
  {
   "cell_type": "code",
   "execution_count": 37,
   "id": "d6794120",
   "metadata": {},
   "outputs": [
    {
     "data": {
      "text/plain": [
       "<KeysViewHDF5 ['WEIGHT', 'bb', 'mask', 'mh', 'pt']>"
      ]
     },
     "execution_count": 37,
     "metadata": {},
     "output_type": "execute_result"
    }
   ],
   "source": [
    "f['TARGETS']['bh1'].keys()"
   ]
  },
  {
   "cell_type": "code",
   "execution_count": null,
   "id": "e16a7f98",
   "metadata": {},
   "outputs": [],
   "source": []
  }
 ],
 "metadata": {
  "kernelspec": {
   "display_name": "Python 3 (ipykernel)",
   "language": "python",
   "name": "python3"
  },
  "language_info": {
   "codemirror_mode": {
    "name": "ipython",
    "version": 3
   },
   "file_extension": ".py",
   "mimetype": "text/x-python",
   "name": "python",
   "nbconvert_exporter": "python",
   "pygments_lexer": "ipython3",
   "version": "3.9.10"
  }
 },
 "nbformat": 4,
 "nbformat_minor": 5
}
